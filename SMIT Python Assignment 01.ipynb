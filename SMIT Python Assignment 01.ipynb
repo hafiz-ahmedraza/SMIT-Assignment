{
 "cells": [
  {
   "cell_type": "code",
   "execution_count": 7,
   "id": "9bc10eb0",
   "metadata": {},
   "outputs": [
    {
     "name": "stdout",
     "output_type": "stream",
     "text": [
      "Enter salary: 43000\n",
      "Enter years of service: 6\n",
      "bonus_amount:  2150.0\n"
     ]
    }
   ],
   "source": [
    "#1\n",
    "salary = int(input(\"Enter salary: \"))\n",
    "years_of_service = int(input(\"Enter years of service: \"))\n",
    "\n",
    "if years_of_service > 5:\n",
    "    print(\"bonus_amount: \", 0.05 * salary)\n",
    "\n"
   ]
  },
  {
   "cell_type": "code",
   "execution_count": 8,
   "id": "d2f988e5",
   "metadata": {},
   "outputs": [
    {
     "name": "stdout",
     "output_type": "stream",
     "text": [
      "Plese enter your age: 18\n",
      "Well! you are eligible for voting\n"
     ]
    }
   ],
   "source": [
    "#2\n",
    "age = int(input(\"Plese enter your age: \"))\n",
    "if age > 17:\n",
    "    print(\"Well! you are eligible for voting\")\n",
    "else:\n",
    "    print(\"Sorry, You are not eligible\")"
   ]
  },
  {
   "cell_type": "code",
   "execution_count": 17,
   "id": "1caf4d32",
   "metadata": {},
   "outputs": [
    {
     "name": "stdout",
     "output_type": "stream",
     "text": [
      "Please enter a number: 400\n",
      "400 is even number\n"
     ]
    }
   ],
   "source": [
    "#3\n",
    "number = int(input(\"Please enter a number: \"))\n",
    "if number % 2 == 0:\n",
    "    print(f\"{number} is even number\")\n",
    "else:\n",
    "    print(f\"{number} is odd number\")"
   ]
  },
  {
   "cell_type": "code",
   "execution_count": 19,
   "id": "1fba45bf",
   "metadata": {},
   "outputs": [
    {
     "name": "stdout",
     "output_type": "stream",
     "text": [
      "Please enter a number: 45\n",
      "45 is not divisible by 7\n"
     ]
    }
   ],
   "source": [
    "#4\n",
    "number = int(input(\"Please enter a number: \"))\n",
    "if number % 7 == 0:\n",
    "    print(f\"{number} is divisible by 7\")\n",
    "else:\n",
    "    print(f\"{number} is not divisible by 7\")"
   ]
  },
  {
   "cell_type": "code",
   "execution_count": 2,
   "id": "84aff749",
   "metadata": {},
   "outputs": [
    {
     "name": "stdout",
     "output_type": "stream",
     "text": [
      "Please enter a number: 39\n",
      "Bye\n"
     ]
    }
   ],
   "source": [
    "#5\n",
    "number = int(input(\"Please enter a number: \"))\n",
    "if number % 5 == 0:\n",
    "    print(\"Hello\")\n",
    "else:\n",
    "    print(\"Bye\")\n",
    "    "
   ]
  },
  {
   "cell_type": "code",
   "execution_count": 7,
   "id": "2656b7c0",
   "metadata": {
    "scrolled": true
   },
   "outputs": [
    {
     "name": "stdout",
     "output_type": "stream",
     "text": [
      "please enter consumed unit: 4\n",
      "There is no charges \n"
     ]
    }
   ],
   "source": [
    "#6\n",
    "unit_consumed =int(input(\"please enter consumed unit: \"))\n",
    "\n",
    "if unit_consumed <= 100:\n",
    "    total_bill_amount = 0\n",
    "    print(\"There is no charges \")\n",
    "elif 100 <= unit_consumed < 200:\n",
    "    total_bill_amount = unit_consumed * 5\n",
    "    print(f\"The total bill amount {total_bill_amount}\")  \n",
    "else:\n",
    "    total_bill_amount = unit_consumed *10\n",
    "    print(f\"The total bill amount {total_bill_amount}\")"
   ]
  },
  {
   "cell_type": "code",
   "execution_count": 4,
   "id": "f6b62714",
   "metadata": {},
   "outputs": [
    {
     "name": "stdout",
     "output_type": "stream",
     "text": [
      "Please enter a number: 100\n",
      "0 is the last_digit of 100\n"
     ]
    }
   ],
   "source": [
    "#7\n",
    "number = int(input(\"Please enter a number: \"))\n",
    "last_digit = number % 10\n",
    "print(f\"{last_digit} is the last_digit of {number}\")"
   ]
  },
  {
   "cell_type": "code",
   "execution_count": 6,
   "id": "4ffc3736",
   "metadata": {},
   "outputs": [
    {
     "name": "stdout",
     "output_type": "stream",
     "text": [
      "Please enter a number: 300\n",
      "0 is divisible by 3\n"
     ]
    }
   ],
   "source": [
    "#8\n",
    "number = int(input(\"Please enter a number: \"))\n",
    "last_digit = number % 10\n",
    "if last_digit % 3 == 0:\n",
    "    print(f\"{last_digit} is divisible by 3\")\n",
    "else:\n",
    "    print(f\"{last_digit} is not divisible by 3\")"
   ]
  },
  {
   "cell_type": "code",
   "execution_count": 3,
   "id": "902dc6e9",
   "metadata": {},
   "outputs": [
    {
     "name": "stdout",
     "output_type": "stream",
     "text": [
      "Please enter length: 10\n",
      "Please enter breadth: 12\n",
      "It is a rectangle\n"
     ]
    }
   ],
   "source": [
    "#9\n",
    "length = int(input(\"Please enter length: \"))\n",
    "breadth = int(input(\"Please enter breadth: \"))\n",
    "if length == breadth:\n",
    "    print(\"It is a square\")\n",
    "else:\n",
    "    print(\"It is a rectangle\")"
   ]
  },
  {
   "cell_type": "code",
   "execution_count": 1,
   "id": "3b7f6e6b",
   "metadata": {},
   "outputs": [
    {
     "name": "stdout",
     "output_type": "stream",
     "text": [
      "Enter a number: 14\n",
      "Enter a number: 10\n",
      "The number_1 is greater\n"
     ]
    }
   ],
   "source": [
    "#10\n",
    "number_1 = int(input(\"Enter a number: \"))\n",
    "number_2 = int(input(\"Enter a number: \"))\n",
    "if number_1 > number_2:\n",
    "    print(\"The number_1 is greater\")\n",
    "else:\n",
    "    print(\"The number_2 is greater\")"
   ]
  },
  {
   "cell_type": "code",
   "execution_count": 10,
   "id": "8cf8319e",
   "metadata": {},
   "outputs": [
    {
     "name": "stdout",
     "output_type": "stream",
     "text": [
      "Enter the quantity: 11\n",
      "The total cost after discount is 990.0\n"
     ]
    }
   ],
   "source": [
    "#11\n",
    "quantity = int(input(\"Enter the quantity: \"))\n",
    "cost_per_unit = 100\n",
    "total_cost = quantity * cost_per_unit\n",
    "if total_cost > 1000:\n",
    "    discount = total_cost * 0.1\n",
    "    total_cost -= discount\n",
    "    print(f\"The total cost after discount is {total_cost}\")\n",
    "else:\n",
    "    print(\"Sorry not eligible for discount\")"
   ]
  },
  {
   "cell_type": "code",
   "execution_count": 8,
   "id": "dac4733f",
   "metadata": {},
   "outputs": [
    {
     "name": "stdout",
     "output_type": "stream",
     "text": [
      "Enter your marks: 40\n",
      "Grade = 'E'\n"
     ]
    }
   ],
   "source": [
    "#12\n",
    "marks = int(input(\"Enter your marks: \"))\n",
    "if marks < 25:\n",
    "    print(\"Grade = 'F'\")\n",
    "elif 25 <= marks < 45:\n",
    "    print(\"Grade = 'E'\")\n",
    "elif 45 <= marks < 50:\n",
    "    print(\"Grade = 'D'\")\n",
    "elif 50 <= marks < 60:\n",
    "    print(\"Grade = 'C'\")\n",
    "elif 60 <= marks < 70:\n",
    "    print(\"Grade = 'B'\")\n",
    "    \n",
    "else:\n",
    "    print(\"Grade = 'A'\")"
   ]
  },
  {
   "cell_type": "code",
   "execution_count": 2,
   "id": "31a3d8dc",
   "metadata": {},
   "outputs": [
    {
     "name": "stdout",
     "output_type": "stream",
     "text": [
      "Enter the age 01: 36\n",
      "Enter the age 02: 29\n",
      "Enter the age 03: 28\n",
      "The oldest person is 36 years old.\n",
      "The youngest person is 28 years old.\n"
     ]
    }
   ],
   "source": [
    "#13\n",
    "person_01_age = int(input(\"Enter the age 01: \"))\n",
    "person_02_age = int(input(\"Enter the age 02: \"))\n",
    "person_03_age = int(input(\"Enter the age 03: \"))\n",
    "\n",
    "oldest = max(person_01_age, person_02_age, person_03_age)\n",
    "youngest = min(person_01_age, person_02_age, person_03_age)\n",
    "\n",
    "print(f\"The oldest person is {oldest} years old.\")\n",
    "print(f\"The youngest person is {youngest} years old.\")\n"
   ]
  },
  {
   "cell_type": "code",
   "execution_count": 19,
   "id": "dadfbae1",
   "metadata": {},
   "outputs": [
    {
     "name": "stdout",
     "output_type": "stream",
     "text": [
      "Please Enter number of classes held: 40\n",
      "Please Enter number of classes attended: 20\n",
      "Dear student you are not allowed to sit in exam.\n"
     ]
    }
   ],
   "source": [
    "#14\n",
    "number_of_classes_held = int(input(\"Please Enter number of classes held: \"))\n",
    "number_of_classes_attended = int(input(\"Please Enter number of classes attended: \"))\n",
    "\n",
    "attendance_percentage = (number_of_classes_attended / number_of_classes_held)* 100\n",
    "\n",
    "if attendance_percentage >= 75:\n",
    "    print(\"Dear student you are allowed to sit in exam.\")\n",
    "else:\n",
    "    print(\"Dear student you are not allowed to sit in exam.\")"
   ]
  },
  {
   "cell_type": "code",
   "execution_count": 23,
   "id": "ec47abfe",
   "metadata": {},
   "outputs": [
    {
     "name": "stdout",
     "output_type": "stream",
     "text": [
      "Please Enter number of classes held: 50\n",
      "Please Enter number of classes attended: 20\n",
      "please answer Yes or No: yes\n",
      "Dear student you are allowed to sit in exam.\n"
     ]
    }
   ],
   "source": [
    "#15\n",
    "number_of_classes_held = int(input(\"Please Enter number of classes held: \"))\n",
    "number_of_classes_attended = int(input(\"Please Enter number of classes attended: \"))\n",
    "medical_cause = input(\"please answer Yes or No: \")\n",
    "\n",
    "attendance_percentage = (number_of_classes_attended / number_of_classes_held)* 100\n",
    "\n",
    "if attendance_percentage >= 75:\n",
    "    print(\"Dear student you are allowed to sit in exam.\")\n",
    "    \n",
    "elif attendance_percentage < 75 or medical_cause == \"Yes\":\n",
    "    print(\"Dear student you are allowed to sit in exam.\")\n",
    "else:\n",
    "    print(\"Dear student you are not allowed to sit in exam.\")"
   ]
  },
  {
   "cell_type": "code",
   "execution_count": 6,
   "id": "80f8b928",
   "metadata": {},
   "outputs": [
    {
     "name": "stdout",
     "output_type": "stream",
     "text": [
      "Enter a year: 2021\n",
      "2021 is not a leap year.\n"
     ]
    }
   ],
   "source": [
    "#16\n",
    "#If a year is divisible by 4 and not divisible by 100, it is a leap year.\n",
    "#However, if a year is divisible by 100, it is not a leap year unless it is also divisible by 400.\n",
    "year = int(input(\"Enter a year: \"))\n",
    "if (year % 4 == 0 and year % 100 != 0) or year % 400 == 0:\n",
    "    print(f\"{year} is a leap year.\")\n",
    "else:\n",
    "    print(f\"{year} is not a leap year.\")"
   ]
  },
  {
   "cell_type": "code",
   "execution_count": 15,
   "id": "206a9352",
   "metadata": {},
   "outputs": [
    {
     "name": "stdout",
     "output_type": "stream",
     "text": [
      "Enter your age: 70\n",
      "Enter your gender m or f: m\n",
      "Enter your status: y\n",
      "error\n"
     ]
    }
   ],
   "source": [
    "#17\n",
    "age = int(input(\"Enter your age: \"))\n",
    "gender = input(\"Enter your gender m or f: \")\n",
    "marital_status = input(\"Enter your status: \")\n",
    "\n",
    "if gender == 'f':\n",
    "    print(\"You will work in urban areas.\")\n",
    "elif gender == 'm' and 20 <= age <= 40:\n",
    "    print(\"You may work anywhere.\")\n",
    "elif gender == 'm' and 40 <= age <= 60:\n",
    "    print(\"You will work in urban areas only.\")\n",
    "else:\n",
    "    print(\"error\")"
   ]
  }
 ],
 "metadata": {
  "kernelspec": {
   "display_name": "Python 3 (ipykernel)",
   "language": "python",
   "name": "python3"
  },
  "language_info": {
   "codemirror_mode": {
    "name": "ipython",
    "version": 3
   },
   "file_extension": ".py",
   "mimetype": "text/x-python",
   "name": "python",
   "nbconvert_exporter": "python",
   "pygments_lexer": "ipython3",
   "version": "3.11.5"
  }
 },
 "nbformat": 4,
 "nbformat_minor": 5
}
